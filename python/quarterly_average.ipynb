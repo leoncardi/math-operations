{
 "cells": [
  {
   "cell_type": "code",
   "execution_count": 9,
   "metadata": {},
   "outputs": [],
   "source": [
    "import pandas as pd"
   ]
  },
  {
   "cell_type": "code",
   "execution_count": 14,
   "metadata": {},
   "outputs": [
    {
     "data": {
      "text/html": [
       "<div>\n",
       "<style scoped>\n",
       "    .dataframe tbody tr th:only-of-type {\n",
       "        vertical-align: middle;\n",
       "    }\n",
       "\n",
       "    .dataframe tbody tr th {\n",
       "        vertical-align: top;\n",
       "    }\n",
       "\n",
       "    .dataframe thead th {\n",
       "        text-align: right;\n",
       "    }\n",
       "</style>\n",
       "<table border=\"1\" class=\"dataframe\">\n",
       "  <thead>\n",
       "    <tr style=\"text-align: right;\">\n",
       "      <th></th>\n",
       "      <th>Data</th>\n",
       "      <th>Receita</th>\n",
       "    </tr>\n",
       "  </thead>\n",
       "  <tbody>\n",
       "    <tr>\n",
       "      <th>0</th>\n",
       "      <td>2022-12-31</td>\n",
       "      <td>10</td>\n",
       "    </tr>\n",
       "    <tr>\n",
       "      <th>1</th>\n",
       "      <td>2022-09-30</td>\n",
       "      <td>15</td>\n",
       "    </tr>\n",
       "    <tr>\n",
       "      <th>2</th>\n",
       "      <td>2022-06-30</td>\n",
       "      <td>20</td>\n",
       "    </tr>\n",
       "    <tr>\n",
       "      <th>3</th>\n",
       "      <td>2021-03-31</td>\n",
       "      <td>25</td>\n",
       "    </tr>\n",
       "    <tr>\n",
       "      <th>4</th>\n",
       "      <td>2021-12-31</td>\n",
       "      <td>30</td>\n",
       "    </tr>\n",
       "    <tr>\n",
       "      <th>5</th>\n",
       "      <td>2021-09-30</td>\n",
       "      <td>35</td>\n",
       "    </tr>\n",
       "    <tr>\n",
       "      <th>6</th>\n",
       "      <td>2021-06-30</td>\n",
       "      <td>40</td>\n",
       "    </tr>\n",
       "    <tr>\n",
       "      <th>7</th>\n",
       "      <td>2021-03-31</td>\n",
       "      <td>45</td>\n",
       "    </tr>\n",
       "    <tr>\n",
       "      <th>8</th>\n",
       "      <td>2020-12-31</td>\n",
       "      <td>50</td>\n",
       "    </tr>\n",
       "    <tr>\n",
       "      <th>9</th>\n",
       "      <td>2020-09-30</td>\n",
       "      <td>55</td>\n",
       "    </tr>\n",
       "    <tr>\n",
       "      <th>10</th>\n",
       "      <td>2020-06-30</td>\n",
       "      <td>60</td>\n",
       "    </tr>\n",
       "    <tr>\n",
       "      <th>11</th>\n",
       "      <td>2020-03-31</td>\n",
       "      <td>65</td>\n",
       "    </tr>\n",
       "  </tbody>\n",
       "</table>\n",
       "</div>"
      ],
      "text/plain": [
       "          Data  Receita\n",
       "0   2022-12-31       10\n",
       "1   2022-09-30       15\n",
       "2   2022-06-30       20\n",
       "3   2021-03-31       25\n",
       "4   2021-12-31       30\n",
       "5   2021-09-30       35\n",
       "6   2021-06-30       40\n",
       "7   2021-03-31       45\n",
       "8   2020-12-31       50\n",
       "9   2020-09-30       55\n",
       "10  2020-06-30       60\n",
       "11  2020-03-31       65"
      ]
     },
     "execution_count": 14,
     "metadata": {},
     "output_type": "execute_result"
    }
   ],
   "source": [
    "# Create a DataFrame with dates and values\n",
    "df = pd.DataFrame({'Data': [ '2022-12-31', \n",
    "                             '2022-09-30', \n",
    "                             '2022-06-30', \n",
    "                             '2021-03-31',\n",
    "                             '2021-12-31', \n",
    "                             '2021-09-30', \n",
    "                             '2021-06-30', \n",
    "                             '2021-03-31',\n",
    "                             '2020-12-31', \n",
    "                             '2020-09-30', \n",
    "                             '2020-06-30', \n",
    "                             '2020-03-31',],                   \n",
    "                   'Receita': [ 10, 15, 20, 25, \n",
    "                                30, 35, 40, 45, \n",
    "                                50, 55, 60, 65]})\n",
    "\n",
    "df"
   ]
  },
  {
   "cell_type": "code",
   "execution_count": 11,
   "metadata": {},
   "outputs": [
    {
     "data": {
      "text/html": [
       "<div>\n",
       "<style scoped>\n",
       "    .dataframe tbody tr th:only-of-type {\n",
       "        vertical-align: middle;\n",
       "    }\n",
       "\n",
       "    .dataframe tbody tr th {\n",
       "        vertical-align: top;\n",
       "    }\n",
       "\n",
       "    .dataframe thead th {\n",
       "        text-align: right;\n",
       "    }\n",
       "</style>\n",
       "<table border=\"1\" class=\"dataframe\">\n",
       "  <thead>\n",
       "    <tr style=\"text-align: right;\">\n",
       "      <th></th>\n",
       "      <th>Trimestre</th>\n",
       "      <th>Receita</th>\n",
       "    </tr>\n",
       "  </thead>\n",
       "  <tbody>\n",
       "    <tr>\n",
       "      <th>0</th>\n",
       "      <td>1</td>\n",
       "      <td>45.0</td>\n",
       "    </tr>\n",
       "    <tr>\n",
       "      <th>1</th>\n",
       "      <td>2</td>\n",
       "      <td>40.0</td>\n",
       "    </tr>\n",
       "    <tr>\n",
       "      <th>2</th>\n",
       "      <td>3</td>\n",
       "      <td>35.0</td>\n",
       "    </tr>\n",
       "    <tr>\n",
       "      <th>3</th>\n",
       "      <td>4</td>\n",
       "      <td>30.0</td>\n",
       "    </tr>\n",
       "  </tbody>\n",
       "</table>\n",
       "</div>"
      ],
      "text/plain": [
       "   Trimestre  Receita\n",
       "0          1     45.0\n",
       "1          2     40.0\n",
       "2          3     35.0\n",
       "3          4     30.0"
      ]
     },
     "execution_count": 11,
     "metadata": {},
     "output_type": "execute_result"
    }
   ],
   "source": [
    "# Convert the 'Data' column to datetime format\n",
    "df['Data'] = pd.to_datetime(df['Data'])\n",
    "\n",
    " # Create a new column 'Quarter' to store the quarter corresponding to each date\n",
    "df['Trimestre'] = df['Data'].dt.quarter\n",
    "\n",
    "# Group the data by quarter and calculate the mean of each group\n",
    "medias_trimestrais = df.groupby('Trimestre')['Receita'].mean()\n",
    "\n",
    "# Replace the original DataFrame data with the quarterly averages\n",
    "df = pd.DataFrame({\n",
    "    'Trimestre': medias_trimestrais.index,\n",
    "    'Receita': medias_trimestrais.values\n",
    "})\n",
    "\n",
    "df"
   ]
  },
  {
   "cell_type": "code",
   "execution_count": 13,
   "metadata": {},
   "outputs": [
    {
     "name": "stdout",
     "output_type": "stream",
     "text": [
      "\n",
      "Quarterly averages calculated manually:\n"
     ]
    },
    {
     "data": {
      "text/plain": [
       "0    45.0\n",
       "1    35.0\n",
       "2    35.0\n",
       "3    30.0\n",
       "dtype: float64"
      ]
     },
     "execution_count": 13,
     "metadata": {},
     "output_type": "execute_result"
    }
   ],
   "source": [
    "\n",
    "verify = pd.Series([\n",
    "    (25+45+65)/3,  # 1st quarter average between each year\n",
    "    (20+25+60)/3,  # 2nd quarter average between each year\n",
    "    (15+35+55)/3,  # 3rd quarter average between each year\n",
    "    (10+30+50)/3   # 4th quarter average between each year\n",
    "\n",
    "])\n",
    "\n",
    "# Imprime as médias trimestrais calculadas manualmente\n",
    "print('\\nQuarterly averages calculated manually:') \n",
    "verify"
   ]
  }
 ],
 "metadata": {
  "kernelspec": {
   "display_name": "DMA",
   "language": "python",
   "name": "python3"
  },
  "language_info": {
   "codemirror_mode": {
    "name": "ipython",
    "version": 3
   },
   "file_extension": ".py",
   "mimetype": "text/x-python",
   "name": "python",
   "nbconvert_exporter": "python",
   "pygments_lexer": "ipython3",
   "version": "3.10.9"
  },
  "orig_nbformat": 4
 },
 "nbformat": 4,
 "nbformat_minor": 2
}
