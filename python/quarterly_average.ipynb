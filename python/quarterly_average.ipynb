{
 "cells": [
  {
   "cell_type": "code",
   "execution_count": null,
   "metadata": {},
   "outputs": [],
   "source": [
    "import pandas as pd\n",
    "\n",
    "# Cria um dataframe de exemplo\n",
    "df = pd.DataFrame({'Data': ['2022-01-01', '2022-02-01', '2022-03-01', '2022-04-01',\n",
    "                            '2022-05-01', '2022-06-01', '2022-07-01', '2022-08-01',\n",
    "                            '2022-09-01', '2022-10-01', '2022-11-01', '2022-12-01'],\n",
    "                   'Valor': [10, 15, 20, 25, 30, 35, 40, 45, 50, 55, 60, 65]})\n",
    "df"
   ]
  },
  {
   "cell_type": "code",
   "execution_count": null,
   "metadata": {},
   "outputs": [],
   "source": [
    "# Converte a coluna 'Data' para o formato datetime\n",
    "df['Data'] = pd.to_datetime(df['Data'])\n",
    "\n",
    "# Cria uma nova coluna 'Trimestre' para armazenar o trimestre correspondente a cada data\n",
    "df['Trimestre'] = df['Data'].dt.quarter\n",
    "\n",
    "# Agrupa os dados por trimestre e calcula a média de cada grupo\n",
    "media_trimestral = df.groupby('Trimestre')['Valor'].mean()\n",
    "\n",
    "# Imprime a média trimestral\n",
    "print(media_trimestral)"
   ]
  }
 ],
 "metadata": {
  "kernelspec": {
   "display_name": "DMA",
   "language": "python",
   "name": "python3"
  },
  "language_info": {
   "codemirror_mode": {
    "name": "ipython",
    "version": 3
   },
   "file_extension": ".py",
   "mimetype": "text/x-python",
   "name": "python",
   "nbconvert_exporter": "python",
   "pygments_lexer": "ipython3",
   "version": "3.10.9"
  },
  "orig_nbformat": 4
 },
 "nbformat": 4,
 "nbformat_minor": 2
}
